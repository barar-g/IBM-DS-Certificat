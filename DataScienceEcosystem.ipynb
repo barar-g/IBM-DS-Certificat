{
 "cells": [
  {
   "cell_type": "markdown",
   "id": "8bebf223",
   "metadata": {},
   "source": [
    "# Data Science Tools and Ecosystem"
   ]
  },
  {
   "cell_type": "markdown",
   "id": "8055c7c6",
   "metadata": {},
   "source": [
    "### In this notebook, Data Science Tools and Ecosystem are summarized."
   ]
  },
  {
   "attachments": {},
   "cell_type": "markdown",
   "id": "306c2a5c",
   "metadata": {},
   "source": [
    "### Objectives : introduce  somme off the langauges used in data science, librairys, tools and write and excute a codes cells"
   ]
  },
  {
   "cell_type": "markdown",
   "id": "a2595a2c",
   "metadata": {},
   "source": [
    "### Some of the popular languages that Data Scientists use are:\n",
    "\n",
    "#### - Python\n",
    "#### -  R\n",
    "#### - SQL\n",
    "#### - Julia\n",
    "#### - java\n",
    "#### - java script\n",
    "#### - C++\n",
    "#### - php\n",
    "#### - Go\n",
    "#### - Vusia Basic\n"
   ]
  },
  {
   "cell_type": "markdown",
   "id": "6b9dc5f0",
   "metadata": {},
   "source": [
    "### Some of the commonly used libraries used by Data Scientists include:\n",
    "\n",
    "#### - Pandas\n",
    "\n",
    "#### - Numpy\n",
    "\n",
    "#### - Matplotlib\n",
    "\n",
    "#### - Seaborn\n",
    "\n",
    "#### - Scikit-learn\n",
    "\n",
    "#### - Keras\n",
    "\n",
    "#### - TensorFlow\n",
    "\n",
    "#### - PyTorch\n",
    "\n",
    "#### - Apache Spark\n",
    "\n",
    "#### - Vegas\n",
    "\n",
    "#### - Big DL\n",
    "\n",
    "#### - Ggplot2"
   ]
  },
  {
   "cell_type": "markdown",
   "id": "94f403e6",
   "metadata": {},
   "source": [
    " | Data Science Tools |\n",
    " |--------------------|\n",
    " |    Anaconda        |\n",
    " |    Jupyer Notbooks |\n",
    " |    Rstudio         |\n",
    " |    Spyder          |\n",
    " |Zeppelin            |"
   ]
  },
  {
   "cell_type": "markdown",
   "id": "8c748f2a",
   "metadata": {},
   "source": [
    "###  Below are a few examples of evaluating arithmetic expressions in Python : \n",
    "\n",
    "\n",
    "\n"
   ]
  },
  {
   "cell_type": "code",
   "execution_count": 10,
   "id": "c2324fe2",
   "metadata": {},
   "outputs": [
    {
     "data": {
      "text/plain": [
       "17"
      ]
     },
     "execution_count": 10,
     "metadata": {},
     "output_type": "execute_result"
    }
   ],
   "source": [
    "## This a simple arithmetic expression to mutiply then add integers\n",
    "(3*4)+5"
   ]
  },
  {
   "cell_type": "code",
   "execution_count": 9,
   "id": "8d0067d4",
   "metadata": {},
   "outputs": [
    {
     "name": "stdout",
     "output_type": "stream",
     "text": [
      "200 minutes =  3.3333333333333335 hours \n"
     ]
    }
   ],
   "source": [
    "## This will convert 200 minutes to hours by diving by 60\n",
    "b = 200/60\n",
    "print(\"200 minutes = \",b,\"hours \")"
   ]
  },
  {
   "cell_type": "markdown",
   "id": "00efa9a4",
   "metadata": {},
   "source": [
    "### Author\n",
    "\n",
    "###  Bah cheikh\n"
   ]
  }
 ],
 "metadata": {
  "kernelspec": {
   "display_name": "Python 3",
   "language": "python",
   "name": "python3"
  },
  "language_info": {
   "codemirror_mode": {
    "name": "ipython",
    "version": 3
   },
   "file_extension": ".py",
   "mimetype": "text/x-python",
   "name": "python",
   "nbconvert_exporter": "python",
   "pygments_lexer": "ipython3",
   "version": "3.8.8"
  }
 },
 "nbformat": 4,
 "nbformat_minor": 5
}
