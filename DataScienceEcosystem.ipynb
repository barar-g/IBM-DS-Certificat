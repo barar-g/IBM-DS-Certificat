{
 "cells": [
  {
   "cell_type": "markdown",
   "id": "2c9254c1",
   "metadata": {},
   "source": [
    "# Data Science Tools and Ecosystem"
   ]
  },
  {
   "cell_type": "markdown",
   "id": "3e5c68b8",
   "metadata": {},
   "source": [
    "### In this notebook, Data Science Tools and Ecosystem are summarized."
   ]
  },
  {
   "attachments": {},
   "cell_type": "markdown",
   "id": "ea17fd41",
   "metadata": {},
   "source": [
    "#### Objectives : introduce  somme off the langauges used in data science, librairys, tools and write and excute a codes cells"
   ]
  },
  {
   "cell_type": "markdown",
   "id": "9243e28b",
   "metadata": {},
   "source": [
    "#### Some of the popular languages that Data Scientists use are: Python, R, SQL, Julia, java, java script, C++, scala\n",
    "##### the thre langauges most used in the data science are :\n",
    "##### 1) Python\n",
    "##### 2) R\n",
    "##### 3) SQL"
   ]
  },
  {
   "cell_type": "markdown",
   "id": "b9d73086",
   "metadata": {},
   "source": [
    "#### Some of the commonly used libraries used by Data Scientists include: python libarairy (pandas, nympy, matplotlib,seaborn, keras, tensorflow, scikit learn), R librairy(ggplot2), scala librairy(vegas).\n",
    "\n",
    "##### the thre librairy most used by the data scientist are \n",
    "#### 1.Pandas\n",
    "#### 2.matplotlib\n",
    "#### 3.Tensorflow\n",
    "#### 4.ggplot2"
   ]
  },
  {
   "cell_type": "markdown",
   "id": "5c58716d",
   "metadata": {},
   "source": [
    "#### Data Science Tools\n",
    "  #### MySQL\n",
    "  #### Hadoop\n",
    "  #### elaisticsearch\n",
    "  #### prediction IO"
   ]
  },
  {
   "cell_type": "markdown",
   "id": "87170d7a",
   "metadata": {},
   "source": [
    "###  Below are a few examples of evaluating arithmetic expressions in Python : \n",
    "\n",
    "### Defining some numbers\n",
    "#### a = 10\n",
    "####  b = 3\n",
    "\n",
    "### Performing arithmetic operations\n",
    "#### sum_result = a + b\n",
    "####  difference = a - b\n",
    "\n",
    "\n",
    "### Printing the results\n",
    "#### print(f\"a + b = {sum_result}\")\n",
    "#### print(f\"a - b = {difference}\")\n",
    "\n"
   ]
  },
  {
   "cell_type": "code",
   "execution_count": 8,
   "id": "a96aec48",
   "metadata": {},
   "outputs": [
    {
     "data": {
      "text/plain": [
       "19"
      ]
     },
     "execution_count": 8,
     "metadata": {},
     "output_type": "execute_result"
    }
   ],
   "source": [
    "## This a simple arithmetic expression to mutiply then add integers\n",
    "(3*5)+4"
   ]
  },
  {
   "cell_type": "code",
   "execution_count": 9,
   "id": "e643453c",
   "metadata": {},
   "outputs": [
    {
     "name": "stdout",
     "output_type": "stream",
     "text": [
      "200 minutes =  3.3333333333333335 hours \n"
     ]
    }
   ],
   "source": [
    "## This will convert 200 minutes to hours by diving by 60\n",
    "b = 200/60\n",
    "print(\"200 minutes = \",b,\"hours \")"
   ]
  },
  {
   "cell_type": "markdown",
   "id": "8b56ed06",
   "metadata": {},
   "source": [
    "### Author\n",
    "\n",
    "###  Bah cheikh\n"
   ]
  }
 ],
 "metadata": {
  "kernelspec": {
   "display_name": "Python 3",
   "language": "python",
   "name": "python3"
  },
  "language_info": {
   "codemirror_mode": {
    "name": "ipython",
    "version": 3
   },
   "file_extension": ".py",
   "mimetype": "text/x-python",
   "name": "python",
   "nbconvert_exporter": "python",
   "pygments_lexer": "ipython3",
   "version": "3.8.8"
  }
 },
 "nbformat": 4,
 "nbformat_minor": 5
}
